{
  "nbformat": 4,
  "nbformat_minor": 0,
  "metadata": {
    "colab": {
      "provenance": [],
      "machine_shape": "hm",
      "gpuType": "T4",
      "authorship_tag": "ABX9TyNZ+mJSiASa/UROnBpaO/aL",
      "include_colab_link": true
    },
    "kernelspec": {
      "name": "python3",
      "display_name": "Python 3"
    },
    "language_info": {
      "name": "python"
    },
    "accelerator": "GPU"
  },
  "cells": [
    {
      "cell_type": "markdown",
      "metadata": {
        "id": "view-in-github",
        "colab_type": "text"
      },
      "source": [
        "<a href=\"https://colab.research.google.com/github/asikfarieth/fypproj/blob/main/DeepLearningFYP.ipynb\" target=\"_parent\"><img src=\"https://colab.research.google.com/assets/colab-badge.svg\" alt=\"Open In Colab\"/></a>"
      ]
    },
    {
      "cell_type": "code",
      "execution_count": 9,
      "metadata": {
        "id": "89ar34ag4RKR"
      },
      "outputs": [],
      "source": [
        "import pandas as pd\n",
        "import numpy as np\n",
        "import os\n",
        "from PIL import Image\n",
        "from sklearn.model_selection import train_test_split\n",
        "from sklearn.ensemble import RandomForestClassifier\n",
        "from sklearn.metrics import accuracy_score, classification_report\n",
        "from sklearn.preprocessing import LabelEncoder\n",
        "from skimage.feature import hog\n",
        "from skimage.color import rgb2gray\n"
      ]
    },
    {
      "cell_type": "code",
      "source": [
        "# Ensure kaggle.json is present\n",
        "!ls -lha kaggle.json"
      ],
      "metadata": {
        "colab": {
          "base_uri": "https://localhost:8080/"
        },
        "id": "rkwljjVx5BF9",
        "outputId": "fa4a2457-7cc5-4c84-db88-9fa897c8d108"
      },
      "execution_count": 10,
      "outputs": [
        {
          "output_type": "stream",
          "name": "stdout",
          "text": [
            "-rw-r--r-- 1 root root 67 Sep 25 03:53 kaggle.json\n"
          ]
        }
      ]
    },
    {
      "cell_type": "code",
      "source": [
        "# Set up Kaggle API\n",
        "!mkdir -p ~/.kaggle\n",
        "!cp kaggle.json ~/.kaggle/\n",
        "!chmod 600 ~/.kaggle/kaggle.json\n"
      ],
      "metadata": {
        "id": "1-GMKARU5Rhq"
      },
      "execution_count": 11,
      "outputs": []
    },
    {
      "cell_type": "code",
      "source": [
        "# use the Kaggle API to download the dataset\n",
        "!kaggle datasets download -d paramaggarwal/fashion-product-images-dataset"
      ],
      "metadata": {
        "colab": {
          "base_uri": "https://localhost:8080/"
        },
        "id": "ZuLmm1Tl5UOR",
        "outputId": "8016b216-51a3-4a63-88cb-1101b9e8b562"
      },
      "execution_count": 12,
      "outputs": [
        {
          "output_type": "stream",
          "name": "stdout",
          "text": [
            "Downloading fashion-product-images-dataset.zip to /content\n",
            "100% 23.1G/23.1G [19:34<00:00, 24.4MB/s]\n",
            "100% 23.1G/23.1G [19:34<00:00, 21.1MB/s]\n"
          ]
        }
      ]
    },
    {
      "cell_type": "code",
      "source": [
        "# unzip the dataset\n",
        "!unzip -q fashion-product-images-dataset.zip\n"
      ],
      "metadata": {
        "id": "JsSOJv9X5frD"
      },
      "execution_count": 13,
      "outputs": []
    },
    {
      "cell_type": "code",
      "source": [
        "# Set the data path to the current directory\n",
        "data_path = \"./fashion-dataset\"\n"
      ],
      "metadata": {
        "id": "42tUBo-J5jhX"
      },
      "execution_count": 14,
      "outputs": []
    },
    {
      "cell_type": "code",
      "source": [
        "# Load the CSV file\n",
        "df = pd.read_csv(os.path.join(data_path, 'styles.csv'), error_bad_lines=False)\n",
        "\n",
        "# Sample a fraction of the dataset. For example, 10%:\n",
        "df_sampled = df.sample(frac=0.10, random_state=42)\n"
      ],
      "metadata": {
        "colab": {
          "base_uri": "https://localhost:8080/"
        },
        "id": "dZQI702u_RGA",
        "outputId": "e71c6515-4d05-4f7d-9051-7358c75c38ce"
      },
      "execution_count": 15,
      "outputs": [
        {
          "output_type": "stream",
          "name": "stderr",
          "text": [
            "<ipython-input-15-a4330c8c183f>:2: FutureWarning: The error_bad_lines argument has been deprecated and will be removed in a future version. Use on_bad_lines in the future.\n",
            "\n",
            "\n",
            "  df = pd.read_csv(os.path.join(data_path, 'styles.csv'), error_bad_lines=False)\n",
            "Skipping line 6044: expected 10 fields, saw 11\n",
            "Skipping line 6569: expected 10 fields, saw 11\n",
            "Skipping line 7399: expected 10 fields, saw 11\n",
            "Skipping line 7939: expected 10 fields, saw 11\n",
            "Skipping line 9026: expected 10 fields, saw 11\n",
            "Skipping line 10264: expected 10 fields, saw 11\n",
            "Skipping line 10427: expected 10 fields, saw 11\n",
            "Skipping line 10905: expected 10 fields, saw 11\n",
            "Skipping line 11373: expected 10 fields, saw 11\n",
            "Skipping line 11945: expected 10 fields, saw 11\n",
            "Skipping line 14112: expected 10 fields, saw 11\n",
            "Skipping line 14532: expected 10 fields, saw 11\n",
            "Skipping line 15076: expected 10 fields, saw 12\n",
            "Skipping line 29906: expected 10 fields, saw 11\n",
            "Skipping line 31625: expected 10 fields, saw 11\n",
            "Skipping line 33020: expected 10 fields, saw 11\n",
            "Skipping line 35748: expected 10 fields, saw 11\n",
            "Skipping line 35962: expected 10 fields, saw 11\n",
            "Skipping line 37770: expected 10 fields, saw 11\n",
            "Skipping line 38105: expected 10 fields, saw 11\n",
            "Skipping line 38275: expected 10 fields, saw 11\n",
            "Skipping line 38404: expected 10 fields, saw 12\n",
            "\n"
          ]
        }
      ]
    },
    {
      "cell_type": "code",
      "source": [
        "# Load image paths for the sampled dataset\n",
        "image_paths = [os.path.join(data_path, \"images\", str(id) + \".jpg\") for id in df_sampled['id']]\n"
      ],
      "metadata": {
        "id": "ovtbD8iX_vpV"
      },
      "execution_count": 16,
      "outputs": []
    },
    {
      "cell_type": "code",
      "source": [
        "# Function to convert images to features using Histogram of Oriented Gradients (HOG)\n",
        "def extract_features(image_path):\n",
        "    try:\n",
        "        image = Image.open(image_path).resize((128, 128))\n",
        "        image = np.array(image)\n",
        "        if len(image.shape) == 2:  # If the image is grayscale\n",
        "            image = np.stack([image] * 3, axis=-1)\n",
        "        gray_image = rgb2gray(image)\n",
        "        hog_features = hog(gray_image, pixels_per_cell=(8, 8), cells_per_block=(2, 2))\n",
        "        return hog_features\n",
        "    except:\n",
        "        return None\n",
        "\n",
        "# Extract HOG features\n",
        "features = [extract_features(image_path) for image_path in image_paths]\n",
        "\n",
        "# Remove failed extractions and corresponding rows\n",
        "valid_indices = [i for i, feature in enumerate(features) if feature is not None]\n",
        "features = [features[i] for i in valid_indices]\n",
        "df_sampled = df_sampled.iloc[valid_indices]\n",
        "\n",
        "# Encode the labels\n",
        "label_encoder = LabelEncoder()\n",
        "labels = label_encoder.fit_transform(df_sampled['articleType'])\n",
        "\n",
        "# Split into training and test sets\n",
        "X_train, X_test, y_train, y_test = train_test_split(features, labels, test_size=0.2, random_state=42)"
      ],
      "metadata": {
        "id": "1N3kM7ei_1Cl"
      },
      "execution_count": 17,
      "outputs": []
    },
    {
      "cell_type": "code",
      "source": [
        "# Identify the unique classes in the sampled data\n",
        "unique_classes = df_sampled['articleType'].unique()\n",
        "\n",
        "# Filter the label encoder's classes\n",
        "filtered_classes = [cls for cls in label_encoder.classes_ if cls in unique_classes]\n"
      ],
      "metadata": {
        "id": "T5Yds1pJB7Ri"
      },
      "execution_count": 18,
      "outputs": []
    },
    {
      "cell_type": "code",
      "source": [
        "# Combine y_train and y_test to get all unique labels\n",
        "all_labels = np.concatenate([y_train, y_test])\n",
        "unique_labels = np.unique(all_labels)\n",
        "\n",
        "# Map unique labels to their string representation\n",
        "class_names = label_encoder.inverse_transform(unique_labels)\n"
      ],
      "metadata": {
        "id": "WyTDjmluCxa8"
      },
      "execution_count": 19,
      "outputs": []
    },
    {
      "cell_type": "code",
      "source": [
        "# Train a Random Forest Classifier\n",
        "clf = RandomForestClassifier(n_estimators=100, random_state=42)\n",
        "clf.fit(X_train, y_train)\n",
        "\n",
        "# Make predictions\n",
        "y_pred = clf.predict(X_test)\n",
        "\n",
        "# Directly get class names from the label encoder\n",
        "class_names = label_encoder.classes_\n",
        "\n",
        "# Compute unique labels in y_test and y_pred\n",
        "actual_unique_labels = np.unique(np.concatenate([y_test, y_pred]))\n",
        "\n",
        "# Print the classification report\n",
        "print(classification_report(y_test, y_pred, labels=actual_unique_labels, target_names=class_names[actual_unique_labels]))\n"
      ],
      "metadata": {
        "colab": {
          "base_uri": "https://localhost:8080/"
        },
        "id": "rETjYfdqCy5O",
        "outputId": "d7af1fb7-2485-4203-dc3b-df7a1b6712c3"
      },
      "execution_count": 20,
      "outputs": [
        {
          "output_type": "stream",
          "name": "stdout",
          "text": [
            "                           precision    recall  f1-score   support\n",
            "\n",
            "       Accessory Gift Set       1.00      0.67      0.80         3\n",
            "                Backpacks       0.64      0.90      0.75        10\n",
            "                   Bangle       0.00      0.00      0.00         3\n",
            "                Bath Robe       0.00      0.00      0.00         1\n",
            "                    Belts       0.84      1.00      0.91        16\n",
            "                      Bra       1.00      0.62      0.77         8\n",
            "                 Bracelet       0.50      0.50      0.50         2\n",
            "                   Briefs       0.71      0.91      0.80        11\n",
            "                   Capris       0.00      0.00      0.00         3\n",
            "                     Caps       0.86      0.60      0.71        10\n",
            "             Casual Shoes       0.64      0.85      0.73        55\n",
            "             Clothing Set       0.00      0.00      0.00         1\n",
            "                 Clutches       1.00      0.25      0.40         4\n",
            "                  Compact       1.00      0.50      0.67         2\n",
            "                Cufflinks       0.50      1.00      0.67         1\n",
            "                Deodorant       0.89      1.00      0.94         8\n",
            "                  Dresses       0.00      0.00      0.00         7\n",
            "               Duffel Bag       0.00      0.00      0.00         2\n",
            "                  Dupatta       0.00      0.00      0.00         5\n",
            "                 Earrings       0.89      1.00      0.94         8\n",
            "Face Scrub and Exfoliator       0.00      0.00      0.00         1\n",
            "   Face Wash and Cleanser       0.00      0.00      0.00         1\n",
            "                    Flats       0.00      0.00      0.00         5\n",
            "               Flip Flops       0.86      0.79      0.83        24\n",
            "             Formal Shoes       0.75      0.50      0.60        12\n",
            "    Foundation and Primer       0.00      0.00      0.00         2\n",
            "       Fragrance Gift Set       1.00      0.50      0.67         2\n",
            "               Free Gifts       0.00      0.00      0.00         1\n",
            "                   Gloves       0.00      0.00      0.00         3\n",
            "                 Handbags       0.74      0.93      0.82        30\n",
            "                    Heels       0.78      0.97      0.86        29\n",
            "          Innerwear Vests       0.00      0.00      0.00         8\n",
            "                  Jackets       0.00      0.00      0.00         4\n",
            "                    Jeans       0.19      0.67      0.30         6\n",
            "            Jewellery Set       0.00      0.00      0.00         2\n",
            "                 Jumpsuit       0.00      0.00      0.00         2\n",
            "       Kajal and Eyeliner       0.00      0.00      0.00         2\n",
            "               Kurta Sets       0.00      0.00      0.00         2\n",
            "                   Kurtas       0.59      0.84      0.69        49\n",
            "                   Kurtis       0.00      0.00      0.00         4\n",
            "               Laptop Bag       0.00      0.00      0.00         2\n",
            "                 Leggings       0.00      0.00      0.00         5\n",
            "                Lip Gloss       0.83      0.71      0.77         7\n",
            "                Lip Liner       0.00      0.00      0.00         0\n",
            "                 Lipstick       1.00      1.00      1.00         4\n",
            "             Lounge Pants       0.00      0.00      0.00         3\n",
            "            Messenger Bag       0.00      0.00      0.00         1\n",
            "             Mobile Pouch       0.00      0.00      0.00         2\n",
            "              Nail Polish       0.33      0.50      0.40         2\n",
            "      Necklace and Chains       0.67      0.67      0.67         3\n",
            "              Night suits       0.50      0.50      0.50         2\n",
            "               Nightdress       0.00      0.00      0.00         9\n",
            "                  Pendant       1.00      0.29      0.44         7\n",
            "    Perfume and Body Mist       0.50      0.43      0.46         7\n",
            "                     Ring       0.75      1.00      0.86         3\n",
            "                  Rompers       0.00      0.00      0.00         1\n",
            "                   Salwar       0.00      0.00      0.00         1\n",
            "                  Sandals       0.86      0.35      0.50        17\n",
            "                   Sarees       0.86      0.86      0.86         7\n",
            "                  Scarves       0.00      0.00      0.00         4\n",
            "                   Shirts       0.84      0.85      0.84        67\n",
            "                   Shorts       0.29      0.17      0.21        12\n",
            "                   Skirts       0.00      0.00      0.00         3\n",
            "                    Socks       1.00      0.88      0.93        16\n",
            "           Sports Sandals       0.00      0.00      0.00         2\n",
            "             Sports Shoes       0.85      0.83      0.84        41\n",
            "                Stockings       0.00      0.00      0.00         1\n",
            "                   Stoles       0.00      0.00      0.00         2\n",
            "               Sunglasses       1.00      1.00      1.00        29\n",
            "               Suspenders       0.00      0.00      0.00         1\n",
            "                 Sweaters       0.00      0.00      0.00         7\n",
            "              Sweatshirts       0.00      0.00      0.00         3\n",
            "                     Ties       1.00      1.00      1.00         4\n",
            "                     Tops       0.48      0.29      0.36        35\n",
            "              Track Pants       0.75      0.75      0.75         8\n",
            "               Tracksuits       0.00      0.00      0.00         2\n",
            "                 Trousers       0.42      0.45      0.43        11\n",
            "                    Trunk       0.00      0.00      0.00         2\n",
            "                  Tshirts       0.63      0.99      0.77       126\n",
            "                   Tunics       0.00      0.00      0.00         8\n",
            "                  Wallets       0.67      0.94      0.78        17\n",
            "                  Watches       0.96      1.00      0.98        55\n",
            "               Wristbands       0.00      0.00      0.00         1\n",
            "\n",
            "                 accuracy                           0.71       889\n",
            "                macro avg       0.38      0.37      0.36       889\n",
            "             weighted avg       0.64      0.71      0.66       889\n",
            "\n"
          ]
        },
        {
          "output_type": "stream",
          "name": "stderr",
          "text": [
            "/usr/local/lib/python3.10/dist-packages/sklearn/metrics/_classification.py:1344: UndefinedMetricWarning: Precision and F-score are ill-defined and being set to 0.0 in labels with no predicted samples. Use `zero_division` parameter to control this behavior.\n",
            "  _warn_prf(average, modifier, msg_start, len(result))\n",
            "/usr/local/lib/python3.10/dist-packages/sklearn/metrics/_classification.py:1344: UndefinedMetricWarning: Recall and F-score are ill-defined and being set to 0.0 in labels with no true samples. Use `zero_division` parameter to control this behavior.\n",
            "  _warn_prf(average, modifier, msg_start, len(result))\n",
            "/usr/local/lib/python3.10/dist-packages/sklearn/metrics/_classification.py:1344: UndefinedMetricWarning: Precision and F-score are ill-defined and being set to 0.0 in labels with no predicted samples. Use `zero_division` parameter to control this behavior.\n",
            "  _warn_prf(average, modifier, msg_start, len(result))\n",
            "/usr/local/lib/python3.10/dist-packages/sklearn/metrics/_classification.py:1344: UndefinedMetricWarning: Recall and F-score are ill-defined and being set to 0.0 in labels with no true samples. Use `zero_division` parameter to control this behavior.\n",
            "  _warn_prf(average, modifier, msg_start, len(result))\n",
            "/usr/local/lib/python3.10/dist-packages/sklearn/metrics/_classification.py:1344: UndefinedMetricWarning: Precision and F-score are ill-defined and being set to 0.0 in labels with no predicted samples. Use `zero_division` parameter to control this behavior.\n",
            "  _warn_prf(average, modifier, msg_start, len(result))\n",
            "/usr/local/lib/python3.10/dist-packages/sklearn/metrics/_classification.py:1344: UndefinedMetricWarning: Recall and F-score are ill-defined and being set to 0.0 in labels with no true samples. Use `zero_division` parameter to control this behavior.\n",
            "  _warn_prf(average, modifier, msg_start, len(result))\n"
          ]
        }
      ]
    },
    {
      "cell_type": "code",
      "source": [
        "# MLP Classifier"
      ],
      "metadata": {
        "id": "vx6yQMQOIxY7"
      },
      "execution_count": 21,
      "outputs": []
    },
    {
      "cell_type": "code",
      "source": [
        "from sklearn.neural_network import MLPClassifier\n",
        "from sklearn.metrics import classification_report\n",
        "\n",
        "# Initialize the Multi-layer Perceptron Classifier\n",
        "mlp = MLPClassifier(hidden_layer_sizes=(100,), max_iter=300, alpha=1e-4,\n",
        "                    solver='adam', verbose=10, random_state=42,\n",
        "                    learning_rate_init=.001)\n",
        "\n",
        "# Train the model\n",
        "mlp.fit(X_train, y_train)\n",
        "\n",
        "# Predictions\n",
        "y_pred = mlp.predict(X_test)\n",
        "\n",
        "# Compute unique labels in y_test and y_pred\n",
        "actual_unique_labels = np.unique(np.concatenate([y_test, y_pred]))\n",
        "\n",
        "# Print the classification report\n",
        "print(classification_report(y_test, y_pred, labels=actual_unique_labels, target_names=class_names[actual_unique_labels]))\n"
      ],
      "metadata": {
        "colab": {
          "base_uri": "https://localhost:8080/"
        },
        "id": "LfSE8u-GPuAg",
        "outputId": "9f4077d3-882a-484a-97a2-1c1c51445bcb"
      },
      "execution_count": 22,
      "outputs": [
        {
          "output_type": "stream",
          "name": "stdout",
          "text": [
            "Iteration 1, loss = 3.06435805\n",
            "Iteration 2, loss = 1.73980413\n",
            "Iteration 3, loss = 1.26024558\n",
            "Iteration 4, loss = 0.97637976\n",
            "Iteration 5, loss = 0.78751517\n",
            "Iteration 6, loss = 0.64726616\n",
            "Iteration 7, loss = 0.53419792\n",
            "Iteration 8, loss = 0.44847968\n",
            "Iteration 9, loss = 0.37725814\n",
            "Iteration 10, loss = 0.32076492\n",
            "Iteration 11, loss = 0.26846290\n",
            "Iteration 12, loss = 0.22763464\n",
            "Iteration 13, loss = 0.19485920\n",
            "Iteration 14, loss = 0.17019159\n",
            "Iteration 15, loss = 0.14690535\n",
            "Iteration 16, loss = 0.12700037\n",
            "Iteration 17, loss = 0.11075325\n",
            "Iteration 18, loss = 0.09660903\n",
            "Iteration 19, loss = 0.08509904\n",
            "Iteration 20, loss = 0.07564874\n",
            "Iteration 21, loss = 0.06799567\n",
            "Iteration 22, loss = 0.06095271\n",
            "Iteration 23, loss = 0.05487417\n",
            "Iteration 24, loss = 0.05015279\n",
            "Iteration 25, loss = 0.04556097\n",
            "Iteration 26, loss = 0.04221081\n",
            "Iteration 27, loss = 0.03878942\n",
            "Iteration 28, loss = 0.03519757\n",
            "Iteration 29, loss = 0.03249548\n",
            "Iteration 30, loss = 0.02992231\n",
            "Iteration 31, loss = 0.02774238\n",
            "Iteration 32, loss = 0.02595377\n",
            "Iteration 33, loss = 0.02413904\n",
            "Iteration 34, loss = 0.02250203\n",
            "Iteration 35, loss = 0.02120570\n",
            "Iteration 36, loss = 0.01984135\n",
            "Iteration 37, loss = 0.01872195\n",
            "Iteration 38, loss = 0.01762891\n",
            "Iteration 39, loss = 0.01659805\n",
            "Iteration 40, loss = 0.01569928\n",
            "Iteration 41, loss = 0.01490315\n",
            "Iteration 42, loss = 0.01425101\n",
            "Iteration 43, loss = 0.01345798\n",
            "Iteration 44, loss = 0.01289164\n",
            "Iteration 45, loss = 0.01220131\n",
            "Iteration 46, loss = 0.01171857\n",
            "Iteration 47, loss = 0.01129343\n",
            "Iteration 48, loss = 0.01076563\n",
            "Iteration 49, loss = 0.01027729\n",
            "Iteration 50, loss = 0.00989643\n",
            "Iteration 51, loss = 0.00942300\n",
            "Iteration 52, loss = 0.00901275\n",
            "Iteration 53, loss = 0.00868922\n",
            "Iteration 54, loss = 0.00840074\n",
            "Iteration 55, loss = 0.00811763\n",
            "Iteration 56, loss = 0.00779855\n",
            "Iteration 57, loss = 0.00745418\n",
            "Iteration 58, loss = 0.00719390\n",
            "Iteration 59, loss = 0.00697594\n",
            "Iteration 60, loss = 0.00674018\n",
            "Iteration 61, loss = 0.00650163\n",
            "Iteration 62, loss = 0.00628142\n",
            "Iteration 63, loss = 0.00608266\n",
            "Iteration 64, loss = 0.00589705\n",
            "Iteration 65, loss = 0.00576256\n",
            "Iteration 66, loss = 0.00555734\n",
            "Iteration 67, loss = 0.00541394\n",
            "Iteration 68, loss = 0.00523319\n",
            "Iteration 69, loss = 0.00509013\n",
            "Iteration 70, loss = 0.00497066\n",
            "Iteration 71, loss = 0.00481789\n",
            "Iteration 72, loss = 0.00469805\n",
            "Iteration 73, loss = 0.00457842\n",
            "Iteration 74, loss = 0.00443893\n",
            "Iteration 75, loss = 0.00431957\n",
            "Iteration 76, loss = 0.00420066\n",
            "Iteration 77, loss = 0.00410592\n",
            "Iteration 78, loss = 0.00401782\n",
            "Iteration 79, loss = 0.00391800\n",
            "Iteration 80, loss = 0.00382351\n",
            "Iteration 81, loss = 0.00373144\n",
            "Iteration 82, loss = 0.00365164\n",
            "Iteration 83, loss = 0.00357816\n",
            "Iteration 84, loss = 0.00349750\n",
            "Iteration 85, loss = 0.00341629\n",
            "Iteration 86, loss = 0.00335141\n",
            "Iteration 87, loss = 0.00330070\n",
            "Training loss did not improve more than tol=0.000100 for 10 consecutive epochs. Stopping.\n",
            "                           precision    recall  f1-score   support\n",
            "\n",
            "       Accessory Gift Set       1.00      1.00      1.00         3\n",
            "                Backpacks       0.69      0.90      0.78        10\n",
            "                   Bangle       0.00      0.00      0.00         3\n",
            "                Bath Robe       0.00      0.00      0.00         1\n",
            "                    Belts       0.94      1.00      0.97        16\n",
            "                      Bra       0.89      1.00      0.94         8\n",
            "                 Bracelet       0.50      0.50      0.50         2\n",
            "                   Briefs       0.79      1.00      0.88        11\n",
            "                   Capris       0.50      0.67      0.57         3\n",
            "                     Caps       0.86      0.60      0.71        10\n",
            "             Casual Shoes       0.75      0.84      0.79        55\n",
            "             Clothing Set       0.00      0.00      0.00         1\n",
            "                 Clutches       1.00      0.25      0.40         4\n",
            "                  Compact       1.00      0.50      0.67         2\n",
            "                Cufflinks       1.00      1.00      1.00         1\n",
            "                Deodorant       0.78      0.88      0.82         8\n",
            "                  Dresses       0.20      0.14      0.17         7\n",
            "               Duffel Bag       0.50      0.50      0.50         2\n",
            "                  Dupatta       1.00      0.60      0.75         5\n",
            "                 Earrings       1.00      1.00      1.00         8\n",
            "        Face Moisturisers       0.00      0.00      0.00         0\n",
            "Face Scrub and Exfoliator       0.00      0.00      0.00         1\n",
            "   Face Wash and Cleanser       0.00      0.00      0.00         1\n",
            "                    Flats       0.00      0.00      0.00         5\n",
            "               Flip Flops       0.84      0.88      0.86        24\n",
            "             Formal Shoes       0.71      0.42      0.53        12\n",
            "    Foundation and Primer       0.00      0.00      0.00         2\n",
            "       Fragrance Gift Set       1.00      1.00      1.00         2\n",
            "               Free Gifts       0.00      0.00      0.00         1\n",
            "                   Gloves       1.00      0.33      0.50         3\n",
            "                 Handbags       0.82      0.93      0.87        30\n",
            "                    Heels       0.84      0.93      0.89        29\n",
            "          Innerwear Vests       0.00      0.00      0.00         8\n",
            "                  Jackets       0.00      0.00      0.00         4\n",
            "                    Jeans       0.38      1.00      0.55         6\n",
            "            Jewellery Set       1.00      0.50      0.67         2\n",
            "                 Jumpsuit       0.00      0.00      0.00         2\n",
            "       Kajal and Eyeliner       0.00      0.00      0.00         2\n",
            "               Kurta Sets       0.00      0.00      0.00         2\n",
            "                   Kurtas       0.72      0.90      0.80        49\n",
            "                   Kurtis       0.00      0.00      0.00         4\n",
            "               Laptop Bag       0.00      0.00      0.00         2\n",
            "                 Leggings       1.00      0.20      0.33         5\n",
            "                Lip Gloss       0.75      0.86      0.80         7\n",
            "                Lip Liner       0.00      0.00      0.00         0\n",
            "                 Lipstick       1.00      1.00      1.00         4\n",
            "             Lounge Pants       0.00      0.00      0.00         3\n",
            "            Messenger Bag       0.00      0.00      0.00         1\n",
            "             Mobile Pouch       0.00      0.00      0.00         2\n",
            "              Nail Polish       0.50      0.50      0.50         2\n",
            "      Necklace and Chains       0.75      1.00      0.86         3\n",
            "              Night suits       0.33      0.50      0.40         2\n",
            "               Nightdress       0.00      0.00      0.00         9\n",
            "                  Pendant       1.00      0.43      0.60         7\n",
            "    Perfume and Body Mist       0.57      0.57      0.57         7\n",
            "                     Ring       0.60      1.00      0.75         3\n",
            "                  Rompers       0.00      0.00      0.00         1\n",
            "                   Salwar       0.00      0.00      0.00         1\n",
            "                  Sandals       0.85      0.65      0.73        17\n",
            "                   Sarees       0.88      1.00      0.93         7\n",
            "                  Scarves       0.67      0.50      0.57         4\n",
            "                   Shirts       0.82      0.94      0.88        67\n",
            "                   Shorts       0.08      0.08      0.08        12\n",
            "                   Skirts       0.50      0.33      0.40         3\n",
            "                    Socks       1.00      0.94      0.97        16\n",
            "           Sports Sandals       0.00      0.00      0.00         2\n",
            "             Sports Shoes       0.81      0.85      0.83        41\n",
            "                Stockings       0.00      0.00      0.00         1\n",
            "                   Stoles       0.00      0.00      0.00         2\n",
            "               Sunglasses       1.00      1.00      1.00        29\n",
            "               Suspenders       0.00      0.00      0.00         1\n",
            "                 Sweaters       0.80      0.57      0.67         7\n",
            "              Sweatshirts       0.67      0.67      0.67         3\n",
            "                 Swimwear       0.00      0.00      0.00         0\n",
            "                     Ties       1.00      1.00      1.00         4\n",
            "                     Tops       0.49      0.63      0.55        35\n",
            "              Track Pants       0.75      0.75      0.75         8\n",
            "               Tracksuits       0.00      0.00      0.00         2\n",
            "                 Trousers       0.70      0.64      0.67        11\n",
            "                    Trunk       1.00      1.00      1.00         2\n",
            "                  Tshirts       0.84      0.94      0.88       126\n",
            "                   Tunics       0.00      0.00      0.00         8\n",
            "                  Wallets       0.84      0.94      0.89        17\n",
            "                  Watches       0.98      1.00      0.99        55\n",
            "               Wristbands       0.00      0.00      0.00         1\n",
            "\n",
            "                 accuracy                           0.77       889\n",
            "                macro avg       0.49      0.47      0.46       889\n",
            "             weighted avg       0.73      0.77      0.74       889\n",
            "\n"
          ]
        },
        {
          "output_type": "stream",
          "name": "stderr",
          "text": [
            "/usr/local/lib/python3.10/dist-packages/sklearn/metrics/_classification.py:1344: UndefinedMetricWarning: Precision and F-score are ill-defined and being set to 0.0 in labels with no predicted samples. Use `zero_division` parameter to control this behavior.\n",
            "  _warn_prf(average, modifier, msg_start, len(result))\n",
            "/usr/local/lib/python3.10/dist-packages/sklearn/metrics/_classification.py:1344: UndefinedMetricWarning: Recall and F-score are ill-defined and being set to 0.0 in labels with no true samples. Use `zero_division` parameter to control this behavior.\n",
            "  _warn_prf(average, modifier, msg_start, len(result))\n",
            "/usr/local/lib/python3.10/dist-packages/sklearn/metrics/_classification.py:1344: UndefinedMetricWarning: Precision and F-score are ill-defined and being set to 0.0 in labels with no predicted samples. Use `zero_division` parameter to control this behavior.\n",
            "  _warn_prf(average, modifier, msg_start, len(result))\n",
            "/usr/local/lib/python3.10/dist-packages/sklearn/metrics/_classification.py:1344: UndefinedMetricWarning: Recall and F-score are ill-defined and being set to 0.0 in labels with no true samples. Use `zero_division` parameter to control this behavior.\n",
            "  _warn_prf(average, modifier, msg_start, len(result))\n",
            "/usr/local/lib/python3.10/dist-packages/sklearn/metrics/_classification.py:1344: UndefinedMetricWarning: Precision and F-score are ill-defined and being set to 0.0 in labels with no predicted samples. Use `zero_division` parameter to control this behavior.\n",
            "  _warn_prf(average, modifier, msg_start, len(result))\n",
            "/usr/local/lib/python3.10/dist-packages/sklearn/metrics/_classification.py:1344: UndefinedMetricWarning: Recall and F-score are ill-defined and being set to 0.0 in labels with no true samples. Use `zero_division` parameter to control this behavior.\n",
            "  _warn_prf(average, modifier, msg_start, len(result))\n"
          ]
        }
      ]
    },
    {
      "cell_type": "code",
      "source": [
        "# Constructing the image path based on the 'id' column\n",
        "df_sampled['image_path'] = df_sampled['id'].apply(lambda x: os.path.join(data_path, 'images', f'{x}.jpg'))\n"
      ],
      "metadata": {
        "id": "ALsF9oogP3NT"
      },
      "execution_count": 23,
      "outputs": []
    },
    {
      "cell_type": "code",
      "source": [
        "import cv2\n",
        "from sklearn.model_selection import train_test_split\n",
        "from keras.utils import to_categorical\n",
        "from sklearn.preprocessing import LabelEncoder\n",
        "\n",
        "# Image loading and preprocessing function\n",
        "def load_images(image_paths, target_size=(64, 64)):\n",
        "    images = []\n",
        "    for path in image_paths:\n",
        "        img = cv2.imread(path)\n",
        "        img = cv2.cvtColor(img, cv2.COLOR_BGR2RGB)\n",
        "        img = cv2.resize(img, target_size)\n",
        "        images.append(img)\n",
        "    return np.array(images) / 255.0  # Normalize\n",
        "\n",
        "X = load_images(df_sampled['image_path'])\n",
        "le = LabelEncoder()\n",
        "y = le.fit_transform(df_sampled['subCategory'])\n",
        "y = to_categorical(y)\n",
        "\n",
        "X_train, X_test, y_train, y_test = train_test_split(X, y, test_size=0.2, random_state=42)\n"
      ],
      "metadata": {
        "id": "8K4-x8kOYOKm"
      },
      "execution_count": 24,
      "outputs": []
    },
    {
      "cell_type": "code",
      "source": [
        "import matplotlib.pyplot as plt\n",
        "import numpy as np\n",
        "from keras.callbacks import Callback\n",
        "from IPython.display import clear_output\n",
        "\n",
        "\n",
        "class PlotLearning(Callback):\n",
        "    def on_train_begin(self, logs={}):\n",
        "        self.i = 0\n",
        "        self.x = []\n",
        "        self.losses = []\n",
        "        self.val_losses = []\n",
        "        self.acc = []\n",
        "        self.val_acc = []\n",
        "        self.fig = plt.figure()\n",
        "\n",
        "        self.logs = []\n",
        "\n",
        "    def on_epoch_end(self, epoch, logs={}):\n",
        "\n",
        "        self.logs.append(logs)\n",
        "        self.x.append(self.i)\n",
        "        self.losses.append(logs.get('loss'))\n",
        "        self.val_losses.append(logs.get('val_loss'))\n",
        "        self.acc.append(logs.get('accuracy'))\n",
        "        self.val_acc.append(logs.get('val_accuracy'))\n",
        "        self.i += 1\n",
        "\n",
        "        f, (ax1, ax2) = plt.subplots(1, 2, sharex=True)\n",
        "\n",
        "        clear_output(wait=True)\n",
        "\n",
        "        ax1.set_yscale('log')\n",
        "        ax1.plot(self.x, self.losses, label=\"loss\")\n",
        "        ax1.plot(self.x, self.val_losses, label=\"val_loss\")\n",
        "        ax1.legend()\n",
        "\n",
        "        ax2.plot(self.x, self.acc, label=\"accuracy\")\n",
        "        ax2.plot(self.x, self.val_acc, label=\"validation accuracy\")\n",
        "        ax2.legend()\n",
        "\n",
        "        plt.show();\n",
        "\n",
        "plot = PlotLearning()\n",
        "\n",
        "from keras.models import Sequential\n",
        "from keras.layers import Conv2D, MaxPooling2D, Flatten, Dense\n",
        "\n",
        "model = Sequential()\n",
        "model.add(Conv2D(32, (3, 3), activation='relu', input_shape=(64, 64, 3)))\n",
        "model.add(MaxPooling2D((2, 2)))\n",
        "model.add(Flatten())\n",
        "model.add(Dense(128, activation='relu'))\n",
        "model.add(Dense(len(le.classes_), activation='softmax'))  # Number of unique subCategories\n",
        "\n",
        "model.compile(optimizer='adam', loss='categorical_crossentropy', metrics=['accuracy'])\n",
        "\n",
        "# Train the CNN model:\n",
        "history = model.fit(X_train, y_train, epochs=10, batch_size=32, validation_data=(X_test, y_test), callbacks=[plot])\n"
      ],
      "metadata": {
        "colab": {
          "base_uri": "https://localhost:8080/",
          "height": 449
        },
        "id": "30rS299iYVGY",
        "outputId": "35cbb4a6-09f5-464e-89c2-19d5ae3db920"
      },
      "execution_count": 25,
      "outputs": [
        {
          "output_type": "display_data",
          "data": {
            "text/plain": [
              "<Figure size 640x480 with 2 Axes>"
            ],
            "image/png": "[encoded data removed]"
          },
          "metadata": {}
        },
        {
          "output_type": "stream",
          "name": "stdout",
          "text": [
            "\b\b\b\b\b\b\b\b\b\b\b\b\b\b\b\b\b\b\b\b\b\b\b\b\b\b\b\b\b\b\b\b\b\b\b\b\b\b\b\b\b\b\b\b\b\b\b\b\b\b\b\b\b\b\b\b\b\b\b\b\b\b\b\b\b\b\b\b\b\b\b\b\b\b\b\b\b\b\b\b\b\b\b\b\r112/112 [==============================] - 1s 9ms/step - loss: 0.0874 - accuracy: 0.9783 - val_loss: 0.6744 - val_accuracy: 0.8616\n"
          ]
        }
      ]
    },
    {
      "cell_type": "code",
      "source": [
        "from keras.callbacks import ReduceLROnPlateau\n",
        "\n",
        "reduce_lr = ReduceLROnPlateau(monitor='val_loss', factor=0.2, patience=5, min_lr=0.000001, verbose=1)\n",
        "\n",
        "# Image loading and preprocessing function\n",
        "def load_images(image_paths, target_size=(64, 64)):\n",
        "    images = []\n",
        "    for path in image_paths:\n",
        "        img = cv2.imread(path)\n",
        "        img = cv2.cvtColor(img, cv2.COLOR_BGR2RGB)\n",
        "        img = cv2.resize(img, target_size)\n",
        "        images.append(img)\n",
        "    return np.array(images) / 255.0  # Normalize\n",
        "\n",
        "X = load_images(df_sampled['image_path'])\n",
        "le = LabelEncoder()\n",
        "y = le.fit_transform(df_sampled['subCategory'])\n",
        "y = to_categorical(y)\n",
        "\n",
        "X_train, X_test, y_train, y_test = train_test_split(X, y, test_size=0.2, random_state=42)\n",
        "\n",
        "# Assuming you've already defined the PlotLearning class above\n",
        "plot = PlotLearning()\n"
      ],
      "metadata": {
        "id": "cvqnlmf_afbS"
      },
      "execution_count": 26,
      "outputs": []
    },
    {
      "cell_type": "code",
      "source": [
        "\n",
        "from keras.models import Sequential\n",
        "from keras.layers import Conv2D, MaxPooling2D, Flatten, Dense, Dropout, BatchNormalization\n",
        "from keras.optimizers import Adam, Nadam\n",
        "from IPython.display import clear_output\n",
        "from keras.callbacks import EarlyStopping\n",
        "\n",
        "\n",
        "num_classes = y_train.shape[1]  # Based on the to_categorical encoding\n",
        "input_shape = (64, 64, 3)\n",
        "early_stop = EarlyStopping(monitor='val_loss', patience=10, verbose=1, restore_best_weights=True)\n",
        "\n",
        "model = Sequential()\n",
        "\n",
        "# First Convolutional Layer\n",
        "model.add(Conv2D(32, (3, 3), activation='relu', input_shape=input_shape))\n",
        "model.add(MaxPooling2D(pool_size=(2, 2)))\n",
        "model.add(BatchNormalization())\n",
        "model.add(Dropout(0.6))\n",
        "\n",
        "\n",
        "# Flattening\n",
        "model.add(Flatten())\n",
        "\n",
        "# Fully Connected Layer\n",
        "model.add(Dense(256, activation='relu'))\n",
        "model.add(Dropout(0.6))\n",
        "\n",
        "# Output Layer\n",
        "model.add(Dense(num_classes, activation='softmax'))\n",
        "\n",
        "# Define your learning rate\n",
        "learning_rate = 0.00004\n",
        "\n",
        "# Compile your model and specify the optimizer with the learning rate\n",
        "model.compile(optimizer=Nadam(learning_rate=learning_rate),\n",
        "              loss='categorical_crossentropy',\n",
        "              metrics=['accuracy'])\n",
        "\n",
        "# Summarize the model structure\n",
        "model.summary()\n",
        "\n",
        "# Train the CNN model\n",
        "history = model.fit(X_train, y_train, epochs=70, batch_size=42,\n",
        "                    validation_data=(X_test, y_test),\n",
        "                    callbacks=[early_stop, plot])\n"
      ],
      "metadata": {
        "colab": {
          "base_uri": "https://localhost:8080/",
          "height": 468
        },
        "id": "cXbsN_vTwIF4",
        "outputId": "fbf91be5-bcdd-4918-ed9f-17175857a099"
      },
      "execution_count": 27,
      "outputs": [
        {
          "output_type": "display_data",
          "data": {
            "text/plain": [
              "<Figure size 640x480 with 2 Axes>"
            ],
            "image/png": "[encoded data removed]"
          },
          "metadata": {}
        },
        {
          "output_type": "stream",
          "name": "stdout",
          "text": [
            "\b\b\b\b\b\b\b\b\b\b\b\b\b\b\b\b\b\b\b\b\b\b\b\b\b\b\b\b\b\b\b\b\b\b\b\b\b\b\b\b\b\b\b\b\b\b\b\b\b\b\b\b\b\b\b\b\b\b\b\b\b\b\b\b\b\b\b\b\b\b\b\b\b\b\b\b\b\b\b\b\b\b\r85/85 [==============================] - 1s 15ms/step - loss: 0.2030 - accuracy: 0.9412 - val_loss: 0.5774 - val_accuracy: 0.8841\n",
            "Epoch 28: early stopping\n"
          ]
        }
      ]
    },
    {
      "cell_type": "code",
      "source": [],
      "metadata": {
        "id": "rXQ8tMRCtxGn"
      },
      "execution_count": 27,
      "outputs": []
    }
  ]
}